{
 "cells": [
  {
   "attachments": {},
   "cell_type": "markdown",
   "metadata": {},
   "source": [
    "Embedding後的資料集已儲存至CSV檔，此步驟可省略\n",
    "\n",
    "直接進行上傳即可"
   ]
  },
  {
   "attachments": {},
   "cell_type": "markdown",
   "metadata": {},
   "source": [
    "# Install depencies"
   ]
  },
  {
   "cell_type": "code",
   "execution_count": 6,
   "metadata": {},
   "outputs": [],
   "source": [
    "!pip3 install regex pandas tiktoken pinecone-client openai tqdm numpy --quiet"
   ]
  },
  {
   "attachments": {},
   "cell_type": "markdown",
   "metadata": {},
   "source": [
    "# Download Dataset"
   ]
  },
  {
   "cell_type": "code",
   "execution_count": 9,
   "metadata": {},
   "outputs": [],
   "source": [
    "import json\n",
    "import re\n",
    "import pandas\n",
    "import wget"
   ]
  },
  {
   "cell_type": "code",
   "execution_count": 11,
   "metadata": {},
   "outputs": [
    {
     "data": {
      "text/plain": [
       "'datasets/112-1.json'"
      ]
     },
     "execution_count": 11,
     "metadata": {},
     "output_type": "execute_result"
    }
   ],
   "source": [
    "wget.download(\"https://gnehs.github.io/ntut-course-crawler-node/111/2/main.json\",out = \"datasets/111-2.json\")\n",
    "wget.download(\"https://gnehs.github.io/ntut-course-crawler-node/112/1/main.json\",out = \"datasets/112-1.json\")"
   ]
  },
  {
   "attachments": {},
   "cell_type": "markdown",
   "metadata": {},
   "source": [
    "# Remove meaningless words"
   ]
  },
  {
   "cell_type": "code",
   "execution_count": 5,
   "metadata": {},
   "outputs": [
    {
     "data": {
      "text/html": [
       "<div>\n",
       "<style scoped>\n",
       "    .dataframe tbody tr th:only-of-type {\n",
       "        vertical-align: middle;\n",
       "    }\n",
       "\n",
       "    .dataframe tbody tr th {\n",
       "        vertical-align: top;\n",
       "    }\n",
       "\n",
       "    .dataframe thead th {\n",
       "        text-align: right;\n",
       "    }\n",
       "</style>\n",
       "<table border=\"1\" class=\"dataframe\">\n",
       "  <thead>\n",
       "    <tr style=\"text-align: right;\">\n",
       "      <th></th>\n",
       "      <th>id</th>\n",
       "      <th>title</th>\n",
       "      <th>description</th>\n",
       "    </tr>\n",
       "  </thead>\n",
       "  <tbody>\n",
       "    <tr>\n",
       "      <th>0</th>\n",
       "      <td>310735</td>\n",
       "      <td>教育議題專題</td>\n",
       "      <td>本課程主要探討當前重要教育議題，如：藝術與美感教育、性別教育、人權教育、勞動教育、法治教育、...</td>\n",
       "    </tr>\n",
       "    <tr>\n",
       "      <th>1</th>\n",
       "      <td>310736</td>\n",
       "      <td>教育哲學</td>\n",
       "      <td>本課程旨在教導學生一個簡潔、廣泛又清楚的教育哲學架構，課程包 括三大部份，第一部份探討哲學的...</td>\n",
       "    </tr>\n",
       "    <tr>\n",
       "      <th>2</th>\n",
       "      <td>310737</td>\n",
       "      <td>學習評量</td>\n",
       "      <td>本課程係在介紹教育測驗及多元評量之原理原則及實務操作，讓學習者在未來從事教職工作能有效應用於...</td>\n",
       "    </tr>\n",
       "    <tr>\n",
       "      <th>3</th>\n",
       "      <td>310738</td>\n",
       "      <td>班級經營</td>\n",
       "      <td>本課程目標如下：(一) 充實學生各種激發快樂學習、健康成長的學識，以培養適任的優良教師；(二...</td>\n",
       "    </tr>\n",
       "    <tr>\n",
       "      <th>4</th>\n",
       "      <td>310739</td>\n",
       "      <td>土木與建築群教學實習</td>\n",
       "      <td>本課程的目標是教導有志從事土木與建築群教學工作的學生，使其能熟悉土木與建築群課程綱要，準備分...</td>\n",
       "    </tr>\n",
       "  </tbody>\n",
       "</table>\n",
       "</div>"
      ],
      "text/plain": [
       "       id       title                                        description\n",
       "0  310735      教育議題專題  本課程主要探討當前重要教育議題，如：藝術與美感教育、性別教育、人權教育、勞動教育、法治教育、...\n",
       "1  310736        教育哲學  本課程旨在教導學生一個簡潔、廣泛又清楚的教育哲學架構，課程包 括三大部份，第一部份探討哲學的...\n",
       "2  310737        學習評量  本課程係在介紹教育測驗及多元評量之原理原則及實務操作，讓學習者在未來從事教職工作能有效應用於...\n",
       "3  310738        班級經營  本課程目標如下：(一) 充實學生各種激發快樂學習、健康成長的學識，以培養適任的優良教師；(二...\n",
       "4  310739  土木與建築群教學實習  本課程的目標是教導有志從事土木與建築群教學工作的學生，使其能熟悉土木與建築群課程綱要，準備分..."
      ]
     },
     "execution_count": 5,
     "metadata": {},
     "output_type": "execute_result"
    }
   ],
   "source": [
    "def remove_urls(text):\n",
    "    url_pattern = re.compile(r'https?://\\S+|www\\.\\S+')\n",
    "    cleaned_text = re.sub(url_pattern, '', text)\n",
    "    cleaned_text = cleaned_text.replace(\"，請參閱連結:\", ' ')\n",
    "    return cleaned_text\n",
    "\n",
    "data = json.load(open(\"111-2.json\"))\n",
    "formated = []\n",
    "\n",
    "formated = []\n",
    "for course in data:\n",
    "    temp=course[\"description\"][\"zh\"]\n",
    "    if(len(course[\"description\"][\"zh\"])!=0 and not (\"學院指定向度\" in temp) and len(course[\"teacher\"])!=0 and len(course[\"classroom\"])!=0):\n",
    "        formated.append([course[\"id\"],remove_urls(course[\"name\"][\"zh\"]),course[\"description\"][\"zh\"]])\n",
    "df=pandas.DataFrame(formated,columns=[\"id\",\"title\",\"description\"])\n",
    "df.head(5)"
   ]
  },
  {
   "cell_type": "code",
   "execution_count": 6,
   "metadata": {},
   "outputs": [
    {
     "name": "stdout",
     "output_type": "stream",
     "text": [
      "<class 'pandas.core.frame.DataFrame'>\n",
      "RangeIndex: 1582 entries, 0 to 1581\n",
      "Data columns (total 3 columns):\n",
      " #   Column       Non-Null Count  Dtype \n",
      "---  ------       --------------  ----- \n",
      " 0   id           1582 non-null   int64 \n",
      " 1   title        1582 non-null   object\n",
      " 2   description  1582 non-null   object\n",
      "dtypes: int64(1), object(2)\n",
      "memory usage: 37.2+ KB\n"
     ]
    }
   ],
   "source": [
    "df[\"id\"]=pandas.to_numeric(df[\"id\"])\n",
    "df.info()"
   ]
  },
  {
   "attachments": {},
   "cell_type": "markdown",
   "metadata": {},
   "source": [
    "# Embedding Datasets"
   ]
  },
  {
   "attachments": {},
   "cell_type": "markdown",
   "metadata": {},
   "source": [
    "## Initialize embedding model"
   ]
  },
  {
   "cell_type": "code",
   "execution_count": 8,
   "metadata": {},
   "outputs": [],
   "source": [
    "import tiktoken\n",
    "from tqdm.notebook import tqdm\n",
    "from openai.embeddings_utils import get_embedding\n",
    "import openai\n",
    "openai.api_key=\"\"\n",
    "embedding_model = \"text-embedding-ada-002\"\n",
    "embedding_encoding = \"cl100k_base\" \n",
    "encoding = tiktoken.get_encoding(embedding_encoding)\n"
   ]
  },
  {
   "cell_type": "code",
   "execution_count": 18,
   "metadata": {},
   "outputs": [
    {
     "data": {
      "application/vnd.jupyter.widget-view+json": {
       "model_id": "227d20b4439f4f18b34acd9d8532c39f",
       "version_major": 2,
       "version_minor": 0
      },
      "text/plain": [
       "  0%|          | 0/1582 [00:00<?, ?it/s]"
      ]
     },
     "metadata": {},
     "output_type": "display_data"
    }
   ],
   "source": [
    "test_df=df.copy()\n",
    "progress_bar = tqdm(total=len(test_df))\n",
    "def convert_embedding(temp,progress_bar):\n",
    "    progress_bar.update(1)\n",
    "    return get_embedding(temp, engine=embedding_model)\n",
    "test_df[\"description_embedding\"]=test_df[\"description\"].copy().apply(lambda temp:convert_embedding(temp,progress_bar))"
   ]
  },
  {
   "cell_type": "code",
   "execution_count": 19,
   "metadata": {},
   "outputs": [
    {
     "data": {
      "text/html": [
       "<div>\n",
       "<style scoped>\n",
       "    .dataframe tbody tr th:only-of-type {\n",
       "        vertical-align: middle;\n",
       "    }\n",
       "\n",
       "    .dataframe tbody tr th {\n",
       "        vertical-align: top;\n",
       "    }\n",
       "\n",
       "    .dataframe thead th {\n",
       "        text-align: right;\n",
       "    }\n",
       "</style>\n",
       "<table border=\"1\" class=\"dataframe\">\n",
       "  <thead>\n",
       "    <tr style=\"text-align: right;\">\n",
       "      <th></th>\n",
       "      <th>id</th>\n",
       "      <th>title</th>\n",
       "      <th>description</th>\n",
       "      <th>description_embedding</th>\n",
       "    </tr>\n",
       "  </thead>\n",
       "  <tbody>\n",
       "    <tr>\n",
       "      <th>0</th>\n",
       "      <td>310735</td>\n",
       "      <td>教育議題專題</td>\n",
       "      <td>本課程主要探討當前重要教育議題，如：藝術與美感教育、性別教育、人權教育、勞動教育、法治教育、...</td>\n",
       "      <td>[0.010150860995054245, -0.008742461912333965, ...</td>\n",
       "    </tr>\n",
       "    <tr>\n",
       "      <th>1</th>\n",
       "      <td>310736</td>\n",
       "      <td>教育哲學</td>\n",
       "      <td>本課程旨在教導學生一個簡潔、廣泛又清楚的教育哲學架構，課程包 括三大部份，第一部份探討哲學的...</td>\n",
       "      <td>[0.018458586186170578, -0.003821807447820902, ...</td>\n",
       "    </tr>\n",
       "    <tr>\n",
       "      <th>2</th>\n",
       "      <td>310737</td>\n",
       "      <td>學習評量</td>\n",
       "      <td>本課程係在介紹教育測驗及多元評量之原理原則及實務操作，讓學習者在未來從事教職工作能有效應用於...</td>\n",
       "      <td>[-0.012573255226016045, 0.0014721325132995844,...</td>\n",
       "    </tr>\n",
       "    <tr>\n",
       "      <th>3</th>\n",
       "      <td>310738</td>\n",
       "      <td>班級經營</td>\n",
       "      <td>本課程目標如下：(一) 充實學生各種激發快樂學習、健康成長的學識，以培養適任的優良教師；(二...</td>\n",
       "      <td>[-0.007300455588847399, -0.0012471340596675873...</td>\n",
       "    </tr>\n",
       "    <tr>\n",
       "      <th>4</th>\n",
       "      <td>310739</td>\n",
       "      <td>土木與建築群教學實習</td>\n",
       "      <td>本課程的目標是教導有志從事土木與建築群教學工作的學生，使其能熟悉土木與建築群課程綱要，準備分...</td>\n",
       "      <td>[-0.0030072827357798815, -0.01690831035375595,...</td>\n",
       "    </tr>\n",
       "    <tr>\n",
       "      <th>...</th>\n",
       "      <td>...</td>\n",
       "      <td>...</td>\n",
       "      <td>...</td>\n",
       "      <td>...</td>\n",
       "    </tr>\n",
       "    <tr>\n",
       "      <th>1577</th>\n",
       "      <td>318002</td>\n",
       "      <td>語文測驗 (四)</td>\n",
       "      <td>本課主旨在設計課程，提供練習，俾使學生嫻熟各式的英語測驗，如全民英檢、托福測驗、TOEIC ...</td>\n",
       "      <td>[-0.0002108228363795206, -0.006927439942955971...</td>\n",
       "    </tr>\n",
       "    <tr>\n",
       "      <th>1578</th>\n",
       "      <td>318003</td>\n",
       "      <td>語文測驗 (四)</td>\n",
       "      <td>本課主旨在設計課程，提供練習，俾使學生嫻熟各式的英語測驗，如全民英檢、托福測驗、TOEIC ...</td>\n",
       "      <td>[-0.0007966117700561881, -0.008518671616911888...</td>\n",
       "    </tr>\n",
       "    <tr>\n",
       "      <th>1579</th>\n",
       "      <td>318006</td>\n",
       "      <td>進階 C 語言實務</td>\n",
       "      <td>C 語言為開發作業系統、嵌入式系統、通訊協定等程式最常使用的程式語言，本課程主要教導 C 程...</td>\n",
       "      <td>[0.011034101247787476, -0.014431698247790337, ...</td>\n",
       "    </tr>\n",
       "    <tr>\n",
       "      <th>1580</th>\n",
       "      <td>318008</td>\n",
       "      <td>音樂欣賞</td>\n",
       "      <td>本課程以培養學生尊重與欣賞不同族群、不同時空、不同價值觀所產生的音樂而設。藉由對音樂元素、本...</td>\n",
       "      <td>[0.009749340824782848, 0.000817790103610605, 0...</td>\n",
       "    </tr>\n",
       "    <tr>\n",
       "      <th>1581</th>\n",
       "      <td>318011</td>\n",
       "      <td>液晶專題 (II)</td>\n",
       "      <td>延續 ' 液晶專題 (I)' 之課程，1. 液晶材料及其光電特性 2. 液晶顯示器的顯示模式...</td>\n",
       "      <td>[0.013740613125264645, 0.0020803979132324457, ...</td>\n",
       "    </tr>\n",
       "  </tbody>\n",
       "</table>\n",
       "<p>1582 rows × 4 columns</p>\n",
       "</div>"
      ],
      "text/plain": [
       "          id       title                                        description  \\\n",
       "0     310735      教育議題專題  本課程主要探討當前重要教育議題，如：藝術與美感教育、性別教育、人權教育、勞動教育、法治教育、...   \n",
       "1     310736        教育哲學  本課程旨在教導學生一個簡潔、廣泛又清楚的教育哲學架構，課程包 括三大部份，第一部份探討哲學的...   \n",
       "2     310737        學習評量  本課程係在介紹教育測驗及多元評量之原理原則及實務操作，讓學習者在未來從事教職工作能有效應用於...   \n",
       "3     310738        班級經營  本課程目標如下：(一) 充實學生各種激發快樂學習、健康成長的學識，以培養適任的優良教師；(二...   \n",
       "4     310739  土木與建築群教學實習  本課程的目標是教導有志從事土木與建築群教學工作的學生，使其能熟悉土木與建築群課程綱要，準備分...   \n",
       "...      ...         ...                                                ...   \n",
       "1577  318002    語文測驗 (四)  本課主旨在設計課程，提供練習，俾使學生嫻熟各式的英語測驗，如全民英檢、托福測驗、TOEIC ...   \n",
       "1578  318003    語文測驗 (四)  本課主旨在設計課程，提供練習，俾使學生嫻熟各式的英語測驗，如全民英檢、托福測驗、TOEIC ...   \n",
       "1579  318006   進階 C 語言實務  C 語言為開發作業系統、嵌入式系統、通訊協定等程式最常使用的程式語言，本課程主要教導 C 程...   \n",
       "1580  318008        音樂欣賞  本課程以培養學生尊重與欣賞不同族群、不同時空、不同價值觀所產生的音樂而設。藉由對音樂元素、本...   \n",
       "1581  318011   液晶專題 (II)  延續 ' 液晶專題 (I)' 之課程，1. 液晶材料及其光電特性 2. 液晶顯示器的顯示模式...   \n",
       "\n",
       "                                  description_embedding  \n",
       "0     [0.010150860995054245, -0.008742461912333965, ...  \n",
       "1     [0.018458586186170578, -0.003821807447820902, ...  \n",
       "2     [-0.012573255226016045, 0.0014721325132995844,...  \n",
       "3     [-0.007300455588847399, -0.0012471340596675873...  \n",
       "4     [-0.0030072827357798815, -0.01690831035375595,...  \n",
       "...                                                 ...  \n",
       "1577  [-0.0002108228363795206, -0.006927439942955971...  \n",
       "1578  [-0.0007966117700561881, -0.008518671616911888...  \n",
       "1579  [0.011034101247787476, -0.014431698247790337, ...  \n",
       "1580  [0.009749340824782848, 0.000817790103610605, 0...  \n",
       "1581  [0.013740613125264645, 0.0020803979132324457, ...  \n",
       "\n",
       "[1582 rows x 4 columns]"
      ]
     },
     "execution_count": 19,
     "metadata": {},
     "output_type": "execute_result"
    }
   ],
   "source": [
    "test_df"
   ]
  },
  {
   "attachments": {},
   "cell_type": "markdown",
   "metadata": {},
   "source": [
    "## Save embedding datasets for reuse"
   ]
  },
  {
   "cell_type": "code",
   "execution_count": 132,
   "metadata": {},
   "outputs": [],
   "source": [
    "test_df.to_csv(\"111-2embedding.csv\")"
   ]
  },
  {
   "attachments": {},
   "cell_type": "markdown",
   "metadata": {},
   "source": [
    "# Upload to Pinecone Database"
   ]
  },
  {
   "cell_type": "code",
   "execution_count": null,
   "metadata": {},
   "outputs": [],
   "source": [
    "import pandas as pd\n",
    "import pinecone\n",
    "from ast import literal_eval\n",
    "from typing import List, Iterator\n",
    "import numpy as np\n",
    "import openai \n",
    "openai.api_key=\"\"\n",
    "EMBEDDING_MODEL = \"text-embedding-ada-002\"\n",
    "df = pd.read_csv(\"./datasets/111-2embedding.csv\")\n",
    "df['description_embedding'] = df.description_embedding.apply(literal_eval)\n",
    "df['id'] = df['id'].apply(str)\n",
    "api_key=\"\"\n",
    "pinecone.init(api_key=api_key,environment=\"northamerica-northeast1-gcp\")\n",
    "\n",
    "\n",
    "# Models a simple batch generator that make chunks out of an input DataFrame\n",
    "class BatchGenerator:\n",
    "    \n",
    "    \n",
    "    def __init__(self, batch_size: int = 10) -> None:\n",
    "        self.batch_size = batch_size\n",
    "    \n",
    "    # Makes chunks out of an input DataFrame\n",
    "    def to_batches(self, df: pd.DataFrame) -> Iterator[pd.DataFrame]:\n",
    "        splits = self.splits_num(df.shape[0])\n",
    "        if splits <= 1:\n",
    "            yield df\n",
    "        else:\n",
    "            for chunk in np.array_split(df, splits):\n",
    "                yield chunk\n",
    "\n",
    "    # Determines how many chunks DataFrame contains\n",
    "    def splits_num(self, elements: int) -> int:\n",
    "        return round(elements / self.batch_size)\n",
    "    \n",
    "    __call__ = to_batches\n",
    "\n",
    "df_batcher = BatchGenerator(300)\n",
    "\n",
    "# Pick a name for the new index\n",
    "index_name = 'ntut-courses'\n",
    "\n",
    "# Check whether the index with the same name already exists - if so, delete it\n",
    "if index_name in pinecone.list_indexes():\n",
    "    pinecone.delete_index(index_name)\n",
    "    \n",
    "# # Creates new index\n",
    "pinecone.create_index(name=index_name, dimension=len(df['description_embedding'][0]))\n",
    "index = pinecone.Index(index_name=index_name)\n",
    "\n",
    "# Confirm our index was created\n",
    "pinecone.list_indexes()\n",
    "\n",
    "for batch_df in df_batcher(df):\n",
    "    index.upsert(vectors=zip(batch_df.id, batch_df.description_embedding), namespace='content')\n",
    "\n",
    "index.describe_index_stats()"
   ]
  }
 ],
 "metadata": {
  "kernelspec": {
   "display_name": "Python 3",
   "language": "python",
   "name": "python3"
  },
  "language_info": {
   "codemirror_mode": {
    "name": "ipython",
    "version": 3
   },
   "file_extension": ".py",
   "mimetype": "text/x-python",
   "name": "python",
   "nbconvert_exporter": "python",
   "pygments_lexer": "ipython3",
   "version": "3.11.3"
  },
  "orig_nbformat": 4
 },
 "nbformat": 4,
 "nbformat_minor": 2
}
