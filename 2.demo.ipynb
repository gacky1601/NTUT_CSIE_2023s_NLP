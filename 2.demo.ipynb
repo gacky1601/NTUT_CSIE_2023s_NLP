{
 "cells": [
  {
   "attachments": {},
   "cell_type": "markdown",
   "metadata": {},
   "source": [
    "# 推薦幫手初始化\n",
    "OpenAI api 要計費，手下留情"
   ]
  },
  {
   "cell_type": "code",
   "execution_count": 1,
   "metadata": {},
   "outputs": [
    {
     "name": "stderr",
     "output_type": "stream",
     "text": [
      "c:\\Users\\Yupooooo\\AppData\\Local\\Programs\\Python\\Python311\\Lib\\site-packages\\pinecone\\index.py:4: TqdmWarning: IProgress not found. Please update jupyter and ipywidgets. See https://ipywidgets.readthedocs.io/en/stable/user_install.html\n",
      "  from tqdm.autonotebook import tqdm\n"
     ]
    }
   ],
   "source": [
    "import pandas as pd\n",
    "import pinecone\n",
    "from ast import literal_eval\n",
    "from typing import List, Iterator\n",
    "import numpy as np\n",
    "import openai \n",
    "openai.api_key=\"\"\n",
    "EMBEDDING_MODEL = \"text-embedding-ada-002\"\n",
    "api_key=\"\"\n",
    "pinecone.init(api_key=api_key,environment=\"northamerica-northeast1-gcp\")\n",
    "index_name = 'ntut-courses'\n",
    "index = pinecone.Index(index_name=index_name)\n",
    "pinecone.list_indexes()\n",
    "\n",
    "df = pd.read_csv(\"./datasets/112-1embedding.csv\")\n",
    "df['description_embedding'] = df.description_embedding.apply(literal_eval)\n",
    "df['id'] = df['id'].apply(str)\n",
    "titles_mapped = dict(zip(df.id,df.title))\n",
    "content_mapped = dict(zip(df.id,df.description))\n",
    "def query_course(query, namespace, top_k=5):\n",
    "    '''Queries an article using its title in the specified\n",
    "     namespace and prints results.'''\n",
    "\n",
    "    # Create vector embeddings based on the title column\n",
    "    embedded_query = openai.Embedding.create(\n",
    "                                            input=query,\n",
    "                                            model=EMBEDDING_MODEL,\n",
    "                                            )[\"data\"][0]['embedding']\n",
    "\n",
    "    # Query namespace passed as parameter using title vector\n",
    "    query_result = index.query(embedded_query, \n",
    "                                      namespace=namespace, \n",
    "                                      top_k=top_k)\n",
    "\n",
    "    # Print query results \n",
    "    print(f'\\nMost similar results to {query} in \"{namespace}\" namespace:\\n')\n",
    "    if not query_result.matches:\n",
    "        print('no query result')\n",
    "    \n",
    "    matches = query_result.matches\n",
    "    ids = [res.id for res in matches]\n",
    "    scores = [res.score for res in matches]\n",
    "    df = pd.DataFrame({'id':ids, \n",
    "                       'score':scores,\n",
    "                       'title': [titles_mapped[_id] for _id in ids],\n",
    "                       'content': [content_mapped[_id] for _id in ids],\n",
    "                       })\n",
    "    \n",
    "    counter = 0\n",
    "    for k,v in df.iterrows():\n",
    "        counter += 1\n",
    "        print(f'{v.id} {v.title} (score = {v.score})')\n",
    "    \n",
    "    print('\\n')\n",
    "\n",
    "    return df\n",
    "def generate_html(courses, scores, user):\n",
    "    base_html = \"\"\"\n",
    "    <!DOCTYPE html>\n",
    "    <html>\n",
    "    <head>\n",
    "        <title>北科好課推推推</title>\n",
    "        <style>\n",
    "            .container {{\n",
    "                display: flex;\n",
    "                justify-content: center;\n",
    "                align-items: center;\n",
    "                flex-wrap: wrap;\n",
    "            }}\n",
    "            \n",
    "            .navbar {{\n",
    "                text-align: center;\n",
    "                background-color: #f0f0f0;\n",
    "                padding: 10px;\n",
    "                font-size: 18px;\n",
    "                font-weight: bold;\n",
    "            }}\n",
    "            \n",
    "            .iframe-container {{\n",
    "                width: 500px;\n",
    "                margin: 10px;\n",
    "            }}\n",
    "            \n",
    "            .iframe-container iframe {{\n",
    "                height: 600px;\n",
    "                width: 100%;\n",
    "                border: none;\n",
    "            }}\n",
    "        </style>\n",
    "    </head>\n",
    "    <body>\n",
    "        <div class=\"navbar\">\n",
    "            北科好課推薦\n",
    "        </div>\n",
    "        <div><h2>根據您的敘述: \"{user}\"，為您推薦5門課程</h2></div>\n",
    "        <div class=\"container\">\n",
    "            {0}\n",
    "        </div>\n",
    "    </body>\n",
    "    </html>\n",
    "    \"\"\"\n",
    "\n",
    "    course_html = \"\"\"\n",
    "        <div class=\"iframe-container\">\n",
    "            <iframe frameborder=\"0\" src=\"https://ntut-course.gnehs.net/course/112/1/{course}?mode=iframe\"></iframe>\n",
    "            <p>推薦指數{score}%</p>\n",
    "        </div>\n",
    "    \"\"\"\n",
    "\n",
    "    courses_html = [course_html.format(course=c, score=s) for c, s in zip(courses, scores)]\n",
    "    return base_html.format(\"\".join(courses_html), user=user)"
   ]
  },
  {
   "attachments": {},
   "cell_type": "markdown",
   "metadata": {},
   "source": [
    "# Recommand\n",
    "修改 case 的字串再執行，可以得到網頁輸出5門課程推薦\n",
    "\n",
    "\n",
    "先將使用者輸入Embedding後，再與向量資料庫進行比對"
   ]
  },
  {
   "cell_type": "code",
   "execution_count": 4,
   "metadata": {},
   "outputs": [
    {
     "name": "stdout",
     "output_type": "stream",
     "text": [
      "\n",
      "Most similar results to 給我幾個課程是和區塊鏈(Blockchain)有關的 in \"content\" namespace:\n",
      "\n",
      "319650 區塊鏈應用設計 (score = 0.876140296)\n",
      "322389 金融科技 (score = 0.851414263)\n",
      "321908 數位金融 (score = 0.837188423)\n",
      "319681 可程式控制與實習 (score = 0.833771408)\n",
      "320360 基礎程式設計 (score = 0.83328)\n",
      "\n",
      "\n"
     ]
    },
    {
     "data": {
      "text/plain": [
       "True"
      ]
     },
     "execution_count": 4,
     "metadata": {},
     "output_type": "execute_result"
    }
   ],
   "source": [
    "\n",
    "case1 = \"給我幾個課程是和區塊鏈(Blockchain)有關的\"\n",
    "case2 = \"我想學習關於其他國家的文化\"\n",
    "case3 = \"我想要找跟炒股相關的課程\"\n",
    "\n",
    "case=case1\n",
    "\n",
    "query_output = query_course(case,'content')\n",
    "query_output[\"id\"].to_list()\n",
    "score=query_output[\"score\"].to_list()\n",
    "for i in range(len(score)):\n",
    "    score[i] = int(score[i]*10000)/100\n",
    "id=query_output[\"id\"].to_list()\n",
    "html_content = generate_html(id, score,case)\n",
    "with open('main.html', 'w') as f:\n",
    "    f.write(html_content)\n",
    "import webbrowser\n",
    "webbrowser.open(\"main.html\")\n"
   ]
  }
 ],
 "metadata": {
  "kernelspec": {
   "display_name": "Python 3",
   "language": "python",
   "name": "python3"
  },
  "language_info": {
   "codemirror_mode": {
    "name": "ipython",
    "version": 3
   },
   "file_extension": ".py",
   "mimetype": "text/x-python",
   "name": "python",
   "nbconvert_exporter": "python",
   "pygments_lexer": "ipython3",
   "version": "3.11.3"
  },
  "orig_nbformat": 4
 },
 "nbformat": 4,
 "nbformat_minor": 2
}
